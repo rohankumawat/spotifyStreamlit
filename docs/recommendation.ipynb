{
 "cells": [
  {
   "cell_type": "code",
   "execution_count": 5,
   "metadata": {},
   "outputs": [],
   "source": [
    "# for data handling\n",
    "import pandas as pd\n",
    "import numpy as np\n",
    "\n",
    "# for visualisation\n",
    "import plotly\n",
    "import plotly.express as px\n",
    "import plotly.io as pio\n",
    "\n",
    "#Progreebar\n",
    "from tqdm import tqdm\n",
    "\n",
    "# ignore warnings\n",
    "import warnings\n",
    "warnings.filterwarnings('ignore')\n",
    "\n",
    "# for transformations and predictions\n",
    "from scipy.optimize import curve_fit\n",
    "# from yellowbrick.target import FeatureCorrelation\n",
    "from sklearn.preprocessing import FunctionTransformer\n",
    "from sklearn.preprocessing import StandardScaler\n",
    "from sklearn.preprocessing import OneHotEncoder\n",
    "from sklearn.preprocessing import MinMaxScaler\n",
    "from sklearn.linear_model import LinearRegression\n",
    "from sklearn.cluster import KMeans \n",
    "from sklearn.ensemble import RandomForestRegressor\n",
    "from sklearn.model_selection import GridSearchCV\n",
    "from sklearn.tree import DecisionTreeRegressor\n",
    "\n",
    "# For scoring\n",
    "from sklearn.metrics import mean_squared_error as mse\n",
    "from sklearn.metrics import r2_score,mean_absolute_error\n",
    "\n",
    "# For validation\n",
    "from sklearn.model_selection import train_test_split"
   ]
  },
  {
   "cell_type": "code",
   "execution_count": 6,
   "metadata": {},
   "outputs": [],
   "source": [
    "df = pd.read_csv(\"../spotify15k.csv\")"
   ]
  },
  {
   "cell_type": "code",
   "execution_count": 7,
   "metadata": {},
   "outputs": [
    {
     "data": {
      "text/plain": [
       "Index(['Unnamed: 0.1', 'album', 'artist_name', 'track_number', 'id', 'name',\n",
       "       'uri', 'acousticness', 'danceability', 'energy', 'instrumentalness',\n",
       "       'liveness', 'loudness', 'speechiness', 'tempo', 'valence', 'explicit',\n",
       "       'mode', 'popularity', 'duration_ms', 'Unnamed: 0'],\n",
       "      dtype='object')"
      ]
     },
     "execution_count": 7,
     "metadata": {},
     "output_type": "execute_result"
    }
   ],
   "source": [
    "df.columns"
   ]
  },
  {
   "cell_type": "code",
   "execution_count": 8,
   "metadata": {},
   "outputs": [],
   "source": [
    "df.drop('Unnamed: 0', axis=1, inplace=True)"
   ]
  },
  {
   "cell_type": "code",
   "execution_count": 9,
   "metadata": {},
   "outputs": [],
   "source": [
    "# remove the square brackets from the artists\n",
    "\n",
    "df[\"artist_name\"]=df[\"artist_name\"].str.replace(\"[\", \"\")\n",
    "df[\"artist_name\"]=df[\"artist_name\"].str.replace(\"]\", \"\")\n",
    "df[\"artist_name\"]=df[\"artist_name\"].str.replace(\"'\", \"\")"
   ]
  },
  {
   "cell_type": "code",
   "execution_count": 10,
   "metadata": {},
   "outputs": [],
   "source": [
    "df.drop(\"track_number\", axis=1, inplace=True)"
   ]
  },
  {
   "cell_type": "code",
   "execution_count": 11,
   "metadata": {},
   "outputs": [],
   "source": [
    "# normalise the columns in the dataframe\n",
    "\n",
    "def normalize_column(col):\n",
    "    max_d = df[col].max()\n",
    "    min_d = df[col].min()\n",
    "    df[col] = (df[col] - min_d)/(max_d - min_d)"
   ]
  },
  {
   "cell_type": "code",
   "execution_count": 12,
   "metadata": {},
   "outputs": [],
   "source": [
    "# normalize all of numerical columns so that min value is 0 and max value is 1\n",
    "\n",
    "num_types = ['int16', 'int32', 'int64', 'float16', 'float32', 'float64']\n",
    "num = df.select_dtypes(include=num_types)\n",
    "\n",
    "for col in num.columns:\n",
    "    normalize_column(col)"
   ]
  },
  {
   "cell_type": "code",
   "execution_count": 13,
   "metadata": {},
   "outputs": [],
   "source": [
    "#perform Kmeans Clustering\n",
    "\n",
    "km = KMeans(n_clusters=25)\n",
    "pred = km.fit_predict(num)\n",
    "df['pred'] = pred\n",
    "normalize_column('pred')"
   ]
  },
  {
   "cell_type": "code",
   "execution_count": 14,
   "metadata": {},
   "outputs": [],
   "source": [
    "# neighbourhood based collborative filterng recommendation system using similarity metrics\n",
    "# manhattan distance is calculated for all songs and recommend songs that are similar to it, based on any given song\n",
    "\n",
    "class recommendSongs():\n",
    "    \n",
    "    def __init__(self, data):\n",
    "        self.data_ = data\n",
    "    \n",
    "    #function which returns recommendations, we can also choose the amount of songs to be recommended\n",
    "    def get_recommendations(self, song_name, n_top):\n",
    "        distances = []\n",
    "        #choosing the given song_name and dropping it from the data\n",
    "        song = self.data_[(self.data_.name.str.lower() == song_name.lower())].head(1).values[0]\n",
    "        remData = self.data_[self.data_.name.str.lower() != song_name.lower()]\n",
    "        for recSong in tqdm(remData.values):\n",
    "            dist = 0\n",
    "            for col in np.arange(len(remData.columns)):\n",
    "                #indices of non-numerical columns(id, uri, name, artists, album)\n",
    "                if not col in [0,1,2,3,14]:\n",
    "                    #calculating the manhettan distances for each numerical feature\n",
    "                    dist = dist + np.absolute(float(song[col]) - float(recSong[col]))\n",
    "            distances.append(dist)\n",
    "        remData['distance'] = distances\n",
    "        #sorting our data to be ascending by 'distance' feature\n",
    "        remData = remData.sort_values('distance')\n",
    "        columns = ['artist_name', 'name']\n",
    "        return remData[columns][:n_top]"
   ]
  },
  {
   "cell_type": "code",
   "execution_count": 15,
   "metadata": {},
   "outputs": [],
   "source": [
    "#Instantiate recommender class\n",
    "recommender = recommendSongs(df)"
   ]
  },
  {
   "cell_type": "code",
   "execution_count": 16,
   "metadata": {},
   "outputs": [
    {
     "name": "stderr",
     "output_type": "stream",
     "text": [
      "  0%|          | 0/15077 [00:00<?, ?it/s]\n"
     ]
    },
    {
     "ename": "ValueError",
     "evalue": "could not convert string to float: 'Locked out of Heaven'",
     "output_type": "error",
     "traceback": [
      "\u001b[0;31m---------------------------------------------------------------------------\u001b[0m",
      "\u001b[0;31mValueError\u001b[0m                                Traceback (most recent call last)",
      "Cell \u001b[0;32mIn[16], line 2\u001b[0m\n\u001b[1;32m      1\u001b[0m \u001b[38;5;66;03m#Get recommendations 'Locked Out of Heaven' song\u001b[39;00m\n\u001b[0;32m----> 2\u001b[0m \u001b[43mrecommender\u001b[49m\u001b[38;5;241;43m.\u001b[39;49m\u001b[43mget_recommendations\u001b[49m\u001b[43m(\u001b[49m\u001b[43msong_name\u001b[49m\u001b[38;5;241;43m=\u001b[39;49m\u001b[38;5;124;43m'\u001b[39;49m\u001b[38;5;124;43mLocked Out of Heaven\u001b[39;49m\u001b[38;5;124;43m'\u001b[39;49m\u001b[43m,\u001b[49m\u001b[43m \u001b[49m\u001b[43mn_top\u001b[49m\u001b[38;5;241;43m=\u001b[39;49m\u001b[38;5;241;43m5\u001b[39;49m\u001b[43m)\u001b[49m\n",
      "Cell \u001b[0;32mIn[14], line 21\u001b[0m, in \u001b[0;36mrecommendSongs.get_recommendations\u001b[0;34m(self, song_name, n_top)\u001b[0m\n\u001b[1;32m     17\u001b[0m     \u001b[38;5;28;01mfor\u001b[39;00m col \u001b[38;5;129;01min\u001b[39;00m np\u001b[38;5;241m.\u001b[39marange(\u001b[38;5;28mlen\u001b[39m(remData\u001b[38;5;241m.\u001b[39mcolumns)):\n\u001b[1;32m     18\u001b[0m         \u001b[38;5;66;03m#indices of non-numerical columns(id, uri, name, artists, album)\u001b[39;00m\n\u001b[1;32m     19\u001b[0m         \u001b[38;5;28;01mif\u001b[39;00m \u001b[38;5;129;01mnot\u001b[39;00m col \u001b[38;5;129;01min\u001b[39;00m [\u001b[38;5;241m0\u001b[39m,\u001b[38;5;241m1\u001b[39m,\u001b[38;5;241m2\u001b[39m,\u001b[38;5;241m3\u001b[39m,\u001b[38;5;241m14\u001b[39m]:\n\u001b[1;32m     20\u001b[0m             \u001b[38;5;66;03m#calculating the manhettan distances for each numerical feature\u001b[39;00m\n\u001b[0;32m---> 21\u001b[0m             dist \u001b[38;5;241m=\u001b[39m dist \u001b[38;5;241m+\u001b[39m np\u001b[38;5;241m.\u001b[39mabsolute(\u001b[38;5;28;43mfloat\u001b[39;49m\u001b[43m(\u001b[49m\u001b[43msong\u001b[49m\u001b[43m[\u001b[49m\u001b[43mcol\u001b[49m\u001b[43m]\u001b[49m\u001b[43m)\u001b[49m \u001b[38;5;241m-\u001b[39m \u001b[38;5;28mfloat\u001b[39m(recSong[col]))\n\u001b[1;32m     22\u001b[0m     distances\u001b[38;5;241m.\u001b[39mappend(dist)\n\u001b[1;32m     23\u001b[0m remData[\u001b[38;5;124m'\u001b[39m\u001b[38;5;124mdistance\u001b[39m\u001b[38;5;124m'\u001b[39m] \u001b[38;5;241m=\u001b[39m distances\n",
      "\u001b[0;31mValueError\u001b[0m: could not convert string to float: 'Locked out of Heaven'"
     ]
    }
   ],
   "source": [
    "#Get recommendations 'Locked Out of Heaven' song\n",
    "recommender.get_recommendations(song_name='Locked Out of Heaven', n_top=5)"
   ]
  },
  {
   "cell_type": "code",
   "execution_count": 17,
   "metadata": {},
   "outputs": [
    {
     "name": "stderr",
     "output_type": "stream",
     "text": [
      "  0%|          | 0/15077 [00:00<?, ?it/s]\n"
     ]
    },
    {
     "ename": "ValueError",
     "evalue": "could not convert string to float: \"That's What I Like\"",
     "output_type": "error",
     "traceback": [
      "\u001b[0;31m---------------------------------------------------------------------------\u001b[0m",
      "\u001b[0;31mValueError\u001b[0m                                Traceback (most recent call last)",
      "Cell \u001b[0;32mIn[17], line 2\u001b[0m\n\u001b[1;32m      1\u001b[0m \u001b[38;5;66;03m#Get recommendations 'That's What I Like' song\u001b[39;00m\n\u001b[0;32m----> 2\u001b[0m \u001b[43mrecommender\u001b[49m\u001b[38;5;241;43m.\u001b[39;49m\u001b[43mget_recommendations\u001b[49m\u001b[43m(\u001b[49m\u001b[43msong_name\u001b[49m\u001b[38;5;241;43m=\u001b[39;49m\u001b[38;5;124;43m\"\u001b[39;49m\u001b[38;5;124;43mThat\u001b[39;49m\u001b[38;5;124;43m'\u001b[39;49m\u001b[38;5;124;43ms What I Like\u001b[39;49m\u001b[38;5;124;43m\"\u001b[39;49m\u001b[43m,\u001b[49m\u001b[43m \u001b[49m\u001b[43mn_top\u001b[49m\u001b[38;5;241;43m=\u001b[39;49m\u001b[38;5;241;43m7\u001b[39;49m\u001b[43m)\u001b[49m\n",
      "Cell \u001b[0;32mIn[14], line 21\u001b[0m, in \u001b[0;36mrecommendSongs.get_recommendations\u001b[0;34m(self, song_name, n_top)\u001b[0m\n\u001b[1;32m     17\u001b[0m     \u001b[38;5;28;01mfor\u001b[39;00m col \u001b[38;5;129;01min\u001b[39;00m np\u001b[38;5;241m.\u001b[39marange(\u001b[38;5;28mlen\u001b[39m(remData\u001b[38;5;241m.\u001b[39mcolumns)):\n\u001b[1;32m     18\u001b[0m         \u001b[38;5;66;03m#indices of non-numerical columns(id, uri, name, artists, album)\u001b[39;00m\n\u001b[1;32m     19\u001b[0m         \u001b[38;5;28;01mif\u001b[39;00m \u001b[38;5;129;01mnot\u001b[39;00m col \u001b[38;5;129;01min\u001b[39;00m [\u001b[38;5;241m0\u001b[39m,\u001b[38;5;241m1\u001b[39m,\u001b[38;5;241m2\u001b[39m,\u001b[38;5;241m3\u001b[39m,\u001b[38;5;241m14\u001b[39m]:\n\u001b[1;32m     20\u001b[0m             \u001b[38;5;66;03m#calculating the manhettan distances for each numerical feature\u001b[39;00m\n\u001b[0;32m---> 21\u001b[0m             dist \u001b[38;5;241m=\u001b[39m dist \u001b[38;5;241m+\u001b[39m np\u001b[38;5;241m.\u001b[39mabsolute(\u001b[38;5;28;43mfloat\u001b[39;49m\u001b[43m(\u001b[49m\u001b[43msong\u001b[49m\u001b[43m[\u001b[49m\u001b[43mcol\u001b[49m\u001b[43m]\u001b[49m\u001b[43m)\u001b[49m \u001b[38;5;241m-\u001b[39m \u001b[38;5;28mfloat\u001b[39m(recSong[col]))\n\u001b[1;32m     22\u001b[0m     distances\u001b[38;5;241m.\u001b[39mappend(dist)\n\u001b[1;32m     23\u001b[0m remData[\u001b[38;5;124m'\u001b[39m\u001b[38;5;124mdistance\u001b[39m\u001b[38;5;124m'\u001b[39m] \u001b[38;5;241m=\u001b[39m distances\n",
      "\u001b[0;31mValueError\u001b[0m: could not convert string to float: \"That's What I Like\""
     ]
    }
   ],
   "source": [
    "#Get recommendations 'That's What I Like' song\n",
    "recommender.get_recommendations(song_name=\"That's What I Like\", n_top=7)"
   ]
  },
  {
   "cell_type": "code",
   "execution_count": null,
   "metadata": {},
   "outputs": [],
   "source": []
  }
 ],
 "metadata": {
  "kernelspec": {
   "display_name": "spotifyStreamlit",
   "language": "python",
   "name": "python3"
  },
  "language_info": {
   "codemirror_mode": {
    "name": "ipython",
    "version": 3
   },
   "file_extension": ".py",
   "mimetype": "text/x-python",
   "name": "python",
   "nbconvert_exporter": "python",
   "pygments_lexer": "ipython3",
   "version": "3.12.1"
  }
 },
 "nbformat": 4,
 "nbformat_minor": 2
}
